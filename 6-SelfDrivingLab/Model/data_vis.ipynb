{
 "cells": [
  {
   "cell_type": "code",
   "execution_count": null,
   "metadata": {},
   "outputs": [],
   "source": [
    "import numpy as np\n",
    "import matplotlib.pyplot as plt\n",
    "import os.path as path\n",
    "import csv"
   ]
  },
  {
   "cell_type": "code",
   "execution_count": null,
   "metadata": {},
   "outputs": [],
   "source": [
    "def visualize_steering_distribution(train_data):\n",
    "    \"\"\"\n",
    "    Visualize the training ground truth distribution \"as provided\"\n",
    "    :param train_data: list of udacity training data\n",
    "    :return:\n",
    "    \"\"\"\n",
    "    train_steering = np.float32(np.array(train_data)[:, 3])\n",
    "    plt.title('Steering angle distribution in training data')\n",
    "    plt.hist(train_steering, 100, normed=0, facecolor='green', alpha=0.75)\n",
    "    plt.ylabel('# frames'), plt.xlabel('steering angle')\n",
    "    plt.show()"
   ]
  },
  {
   "cell_type": "code",
   "execution_count": null,
   "metadata": {},
   "outputs": [],
   "source": [
    "with open('driving_log.csv', 'r') as f:\n",
    "    reader = csv.reader(f)\n",
    "    driving_data = [row for row in reader][1:]\n",
    "\n",
    "\n",
    "\n",
    "visualize_steering_distribution(driving_data)\n",
    "\n",
    "steering = np.float32(np.array(driving_data)[:, 3])\n",
    "\n",
    "mean = float(sum(steering)/len(steering))\n",
    "\n",
    "print(\"Mean steering value: \", mean)"
   ]
  },
  {
   "cell_type": "code",
   "execution_count": null,
   "metadata": {},
   "outputs": [],
   "source": []
  }
 ],
 "metadata": {
  "kernelspec": {
   "display_name": "Python 3",
   "language": "python",
   "name": "python3"
  },
  "language_info": {
   "codemirror_mode": {
    "name": "ipython",
    "version": 3
   },
   "file_extension": ".py",
   "mimetype": "text/x-python",
   "name": "python",
   "nbconvert_exporter": "python",
   "pygments_lexer": "ipython3",
   "version": "3.6.5"
  }
 },
 "nbformat": 4,
 "nbformat_minor": 2
}